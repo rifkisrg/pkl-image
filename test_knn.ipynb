{
 "cells": [
  {
   "cell_type": "code",
   "execution_count": 16,
   "metadata": {},
   "outputs": [],
   "source": [
    "# import library\n",
    "\n",
    "import os, os.path\n",
    "import numpy as np\n",
    "import matplotlib.pyplot as plt\n",
    "import matplotlib.image as mpimg\n",
    "import cv2\n",
    "import csv\n",
    "from scipy.stats import kurtosis, skew\n",
    "import glob\n",
    "from sklearn.preprocessing import MinMaxScaler\n",
    "from skimage.feature import greycomatrix, greycoprops\n",
    "from sklearn.cluster import KMeans\n",
    "from collections import Counter\n",
    "import math"
   ]
  },
  {
   "cell_type": "code",
   "execution_count": 17,
   "metadata": {},
   "outputs": [],
   "source": [
    "# kernel = np.ones((5,5),np.uint8)\n",
    "# scaler = MinMaxScaler()"
   ]
  },
  {
   "cell_type": "code",
   "execution_count": 18,
   "metadata": {},
   "outputs": [],
   "source": [
    "# mengambil label gambar berdasar foldernya\n",
    "labels = [os.path.dirname(file).split('\\\\')[1] for file in glob.glob(\"./downloads/*/*\")]"
   ]
  },
  {
   "cell_type": "code",
   "execution_count": 19,
   "metadata": {},
   "outputs": [],
   "source": [
    "# file_name = [[os.path.dirname(file).split('\\\\')[1], os.path.basename(file)] for file in glob.glob(\"./downloads/*/*\")]\n",
    "# new = [x for x in file_name]\n",
    "\n",
    "# file_name"
   ]
  },
  {
   "cell_type": "code",
   "execution_count": 20,
   "metadata": {},
   "outputs": [],
   "source": [
    "# read image\n",
    "\n",
    "images = [cv2.imread(file) for file in glob.glob(\"./downloads/*/*\")]"
   ]
  },
  {
   "cell_type": "code",
   "execution_count": 21,
   "metadata": {},
   "outputs": [],
   "source": [
    "# fungsi resize citra\n",
    "def resize_image(img):\n",
    "    scale_percent = 50 # percent of original size\n",
    "    width = int(img.shape[1] * scale_percent / 100)\n",
    "    height = int(img.shape[0] * scale_percent / 100)\n",
    "    dim = (width, height)\n",
    "    # resize image\n",
    "    resized = cv2.resize(img, dim, interpolation = cv2.INTER_AREA)\n",
    "    \n",
    "    return resized"
   ]
  },
  {
   "cell_type": "code",
   "execution_count": 22,
   "metadata": {},
   "outputs": [],
   "source": [
    "# fungsi ekstrak fitur color moment\n",
    "def get_color_feature(img):\n",
    "    means = np.mean(img)\n",
    "    stdev = np.std(img)\n",
    "    skewness = [skew(x) for x in img]\n",
    "    kurt = [kurtosis(x) for x in img]\n",
    "\n",
    "    return [means, stdev, skew(skew(skewness)), kurtosis(kurtosis(kurt))]"
   ]
  },
  {
   "cell_type": "code",
   "execution_count": 23,
   "metadata": {},
   "outputs": [],
   "source": [
    "# fungsi kalkulasi matriks glcm dengan sudut gambar 0, 45, 90, 135 derajat\n",
    "\n",
    "def calc_glcm_all_agls(img, label, props, dists=[5], agls=[0, np.pi/4, np.pi/2, 3*np.pi/4], lvl=256, sym=True, norm=True):\n",
    "    \n",
    "    glcm = greycomatrix(img, \n",
    "                        distances=dists, \n",
    "                        angles=agls, \n",
    "                        levels=lvl,\n",
    "                        symmetric=sym, \n",
    "                        normed=norm)\n",
    "    feature = []\n",
    "    glcm_props = [propery for name in props for propery in greycoprops(glcm, name)[0]]\n",
    "    for item in glcm_props:\n",
    "            feature.append(item)\n",
    "    feature.append(label) \n",
    "    \n",
    "    return feature"
   ]
  },
  {
   "cell_type": "code",
   "execution_count": 24,
   "metadata": {},
   "outputs": [],
   "source": [
    "# fungsi get glcm\n",
    "\n",
    "def glcm_features(img, label):\n",
    "    properties = ['dissimilarity', 'correlation', 'homogeneity', 'contrast', 'ASM', 'energy']\n",
    "    gray = cv2.cvtColor(img, cv2.COLOR_BGR2GRAY)\n",
    "\n",
    "    glcm_feat = calc_glcm_all_agls(gray, label, props=properties)\n",
    "        \n",
    "    return glcm_feat"
   ]
  },
  {
   "cell_type": "code",
   "execution_count": 25,
   "metadata": {},
   "outputs": [],
   "source": [
    "# inisialisasi variabel untuk feature citra\n",
    "imgs_feat = []"
   ]
  },
  {
   "cell_type": "code",
   "execution_count": 26,
   "metadata": {},
   "outputs": [],
   "source": [
    "# ekstraksi fitur dari citra\n",
    "for image, label in zip(images, labels):\n",
    "    glcm_feature = glcm_features(image, label)\n",
    "\n",
    "    # Gaussian filtering\n",
    "    blur = cv2.GaussianBlur(image,(5,5),0)\n",
    "    color_feature = get_color_feature(blur)\n",
    "    imgs_feat.append(color_feature + glcm_feature)"
   ]
  },
  {
   "cell_type": "code",
   "execution_count": 27,
   "metadata": {
    "scrolled": true
   },
   "outputs": [],
   "source": [
    "# pembulatan nilai feature\n",
    "rounded_scale = [[round(x, 5) for x in y[0:24]] for y in imgs_feat]\n",
    "# rounded_scale"
   ]
  },
  {
   "cell_type": "code",
   "execution_count": 28,
   "metadata": {},
   "outputs": [],
   "source": [
    "# clustering k-means dengan jumlah cluster 50 dan iterasi maksimum 200\n",
    "kmeans = KMeans(n_clusters=50, max_iter=200).fit(rounded_scale)\n",
    "\n",
    "y = kmeans.predict(rounded_scale)"
   ]
  },
  {
   "cell_type": "code",
   "execution_count": 29,
   "metadata": {},
   "outputs": [],
   "source": [
    "# menyatukan feature dengan label yang sesuai\n",
    "\n",
    "with_nama_makanan = []\n",
    "for i in range(len(rounded_scale)):\n",
    "    label = [labels[i]]\n",
    "    with_nama_makanan.append(rounded_scale[i] + label)"
   ]
  },
  {
   "cell_type": "code",
   "execution_count": 30,
   "metadata": {},
   "outputs": [],
   "source": [
    "# menyatukan citra dengan cluster hasil clustering k-means\n",
    "with_label = list(zip(with_nama_makanan, y))\n",
    "\n",
    "# mengurutkan hasil clustering\n",
    "temp = sorted(with_label, key=lambda x: x[1])\n",
    "\n",
    "# inisialisasi variabel baru untuk menyimpan data berdasar cluster\n",
    "new = []\n",
    "\n",
    "# pemisahan data untuk setiap cluster\n",
    "for i in range(0, 50):\n",
    "    temps = []\n",
    "    for x in temp:\n",
    "        if i == x[1]:\n",
    "            temps.append(x[0])\n",
    "    new.append(temps)"
   ]
  },
  {
   "cell_type": "code",
   "execution_count": 31,
   "metadata": {},
   "outputs": [],
   "source": [
    "# centroid dari hasil k-means clustering\n",
    "centroids = kmeans.cluster_centers_"
   ]
  },
  {
   "cell_type": "code",
   "execution_count": 32,
   "metadata": {},
   "outputs": [
    {
     "ename": "NameError",
     "evalue": "name 'dummy' is not defined",
     "output_type": "error",
     "traceback": [
      "\u001b[1;31m---------------------------------------------------------------------------\u001b[0m",
      "\u001b[1;31mNameError\u001b[0m                                 Traceback (most recent call last)",
      "\u001b[1;32m<ipython-input-32-2fddbdbdb05d>\u001b[0m in \u001b[0;36m<module>\u001b[1;34m\u001b[0m\n\u001b[0;32m      8\u001b[0m     \u001b[1;32mreturn\u001b[0m \u001b[0mdistances\u001b[0m\u001b[1;33m\u001b[0m\u001b[1;33m\u001b[0m\u001b[0m\n\u001b[0;32m      9\u001b[0m \u001b[1;33m\u001b[0m\u001b[0m\n\u001b[1;32m---> 10\u001b[1;33m \u001b[0mcluster_distance\u001b[0m \u001b[1;33m=\u001b[0m \u001b[0meuclidean_distance\u001b[0m\u001b[1;33m(\u001b[0m\u001b[0mdummy\u001b[0m\u001b[1;33m,\u001b[0m \u001b[0mcentroids\u001b[0m\u001b[1;33m)\u001b[0m\u001b[1;33m\u001b[0m\u001b[1;33m\u001b[0m\u001b[0m\n\u001b[0m\u001b[0;32m     11\u001b[0m \u001b[0mnearest_cluster\u001b[0m \u001b[1;33m=\u001b[0m \u001b[0mcluster_distance\u001b[0m\u001b[1;33m.\u001b[0m\u001b[0mindex\u001b[0m\u001b[1;33m(\u001b[0m\u001b[0mmin\u001b[0m\u001b[1;33m(\u001b[0m\u001b[0mcluster_distance\u001b[0m\u001b[1;33m)\u001b[0m\u001b[1;33m)\u001b[0m\u001b[1;33m\u001b[0m\u001b[1;33m\u001b[0m\u001b[0m\n",
      "\u001b[1;31mNameError\u001b[0m: name 'dummy' is not defined"
     ]
    }
   ],
   "source": [
    "# fungsi euclidean distance\n",
    "def euclidean_distance(input_data, dataset):\n",
    "    distances = []\n",
    "    for data in dataset:\n",
    "        dist = math.sqrt(sum([(a - b) ** 2 for a, b in zip(input_data, data)]))\n",
    "        distances.append(dist)\n",
    "    \n",
    "    return distances\n",
    "\n",
    "cluster_distance = euclidean_distance(dummy, centroids)\n",
    "nearest_cluster = cluster_distance.index(min(cluster_distance))"
   ]
  },
  {
   "cell_type": "code",
   "execution_count": null,
   "metadata": {},
   "outputs": [],
   "source": [
    "# fungsi klasifikasi knn\n",
    "def knn(k, datatest, datatrain, nearest_cluster):\n",
    "    data = datatrain[nearest_cluster]\n",
    "    \n",
    "    data_without_label = [x[0:28] for x in data]\n",
    "    label_only = [x[-1] for x in data]\n",
    "    \n",
    "    distance = euclidean_distance(datatest, data_without_label)\n",
    "    zipped = list(zip(distance, label_only))\n",
    "    temp = sorted(zipped, key=lambda x: x[0])\n",
    "    \n",
    "    nearest_neighbor = temp[:k]\n",
    "    \n",
    "    most_label = [x[1] for x in nearest_neighbor]\n",
    "    \n",
    "    return Counter(most_label).most_common(1)[0][0]"
   ]
  },
  {
   "cell_type": "code",
   "execution_count": null,
   "metadata": {},
   "outputs": [],
   "source": [
    "# image untuk testing\n",
    "test_images = [cv2.imread(file) for file in glob.glob(\"./sampel gambar/*\")]\n",
    "\n",
    "# inisialisasi variabel untuk menyimpan fitur citra testing\n",
    "test_feat = []\n",
    "\n",
    "for test in test_images:\n",
    "\n",
    "    resized_imagetest = resize_image(test)\n",
    "\n",
    "    # Gaussian filtering\n",
    "    blurtest = cv2.GaussianBlur(resized_imagetest,(5,5),0)\n",
    "    test_feat.append(get_feature(blurtest))\n",
    "\n",
    "for x in test_feat:\n",
    "    cluster_distance_test = euclidean_distance(x, centroids)\n",
    "    nearest_cluster_test = cluster_distance_test.index(min(cluster_distance_test))\n",
    "#     print(nearest_cluster_test)\n",
    "    print(knn(8, x, new, nearest_cluster_test))"
   ]
  },
  {
   "cell_type": "code",
   "execution_count": null,
   "metadata": {},
   "outputs": [],
   "source": [
    "name"
   ]
  }
 ],
 "metadata": {
  "kernelspec": {
   "display_name": "Python 3",
   "language": "python",
   "name": "python3"
  },
  "language_info": {
   "codemirror_mode": {
    "name": "ipython",
    "version": 3
   },
   "file_extension": ".py",
   "mimetype": "text/x-python",
   "name": "python",
   "nbconvert_exporter": "python",
   "pygments_lexer": "ipython3",
   "version": "3.7.6"
  }
 },
 "nbformat": 4,
 "nbformat_minor": 4
}
